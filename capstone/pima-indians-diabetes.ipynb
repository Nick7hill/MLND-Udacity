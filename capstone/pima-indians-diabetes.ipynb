{
 "cells": [
  {
   "cell_type": "code",
   "execution_count": 1,
   "metadata": {
    "collapsed": false,
    "scrolled": true
   },
   "outputs": [
    {
     "data": {
      "text/html": [
       "<div>\n",
       "<table border=\"1\" class=\"dataframe\">\n",
       "  <thead>\n",
       "    <tr style=\"text-align: right;\">\n",
       "      <th></th>\n",
       "      <th>preg_cnt</th>\n",
       "      <th>glu_conc</th>\n",
       "      <th>dia_bp</th>\n",
       "      <th>tris_skin</th>\n",
       "      <th>ser_insulin</th>\n",
       "      <th>bmi</th>\n",
       "      <th>dpf</th>\n",
       "      <th>age</th>\n",
       "      <th>diabetes</th>\n",
       "    </tr>\n",
       "  </thead>\n",
       "  <tbody>\n",
       "    <tr>\n",
       "      <th>0</th>\n",
       "      <td>6</td>\n",
       "      <td>148</td>\n",
       "      <td>72</td>\n",
       "      <td>35</td>\n",
       "      <td>0</td>\n",
       "      <td>33.6</td>\n",
       "      <td>0.627</td>\n",
       "      <td>50</td>\n",
       "      <td>1</td>\n",
       "    </tr>\n",
       "    <tr>\n",
       "      <th>1</th>\n",
       "      <td>1</td>\n",
       "      <td>85</td>\n",
       "      <td>66</td>\n",
       "      <td>29</td>\n",
       "      <td>0</td>\n",
       "      <td>26.6</td>\n",
       "      <td>0.351</td>\n",
       "      <td>31</td>\n",
       "      <td>0</td>\n",
       "    </tr>\n",
       "    <tr>\n",
       "      <th>2</th>\n",
       "      <td>8</td>\n",
       "      <td>183</td>\n",
       "      <td>64</td>\n",
       "      <td>0</td>\n",
       "      <td>0</td>\n",
       "      <td>23.3</td>\n",
       "      <td>0.672</td>\n",
       "      <td>32</td>\n",
       "      <td>1</td>\n",
       "    </tr>\n",
       "    <tr>\n",
       "      <th>3</th>\n",
       "      <td>1</td>\n",
       "      <td>89</td>\n",
       "      <td>66</td>\n",
       "      <td>23</td>\n",
       "      <td>94</td>\n",
       "      <td>28.1</td>\n",
       "      <td>0.167</td>\n",
       "      <td>21</td>\n",
       "      <td>0</td>\n",
       "    </tr>\n",
       "    <tr>\n",
       "      <th>4</th>\n",
       "      <td>0</td>\n",
       "      <td>137</td>\n",
       "      <td>40</td>\n",
       "      <td>35</td>\n",
       "      <td>168</td>\n",
       "      <td>43.1</td>\n",
       "      <td>2.288</td>\n",
       "      <td>33</td>\n",
       "      <td>1</td>\n",
       "    </tr>\n",
       "  </tbody>\n",
       "</table>\n",
       "</div>"
      ],
      "text/plain": [
       "   preg_cnt  glu_conc  dia_bp  tris_skin  ser_insulin   bmi    dpf  age  \\\n",
       "0         6       148      72         35            0  33.6  0.627   50   \n",
       "1         1        85      66         29            0  26.6  0.351   31   \n",
       "2         8       183      64          0            0  23.3  0.672   32   \n",
       "3         1        89      66         23           94  28.1  0.167   21   \n",
       "4         0       137      40         35          168  43.1  2.288   33   \n",
       "\n",
       "   diabetes  \n",
       "0         1  \n",
       "1         0  \n",
       "2         1  \n",
       "3         0  \n",
       "4         1  "
      ]
     },
     "metadata": {},
     "output_type": "display_data"
    }
   ],
   "source": [
    "#Importing libraries necessary for this project\n",
    "import pandas as pd\n",
    "import numpy as np\n",
    "from IPython.display import display #helps display the data frames using the display() function \n",
    "from time import time\n",
    "import matplotlib.pyplot as plt\n",
    "\n",
    "\n",
    "#Pretty display for notebooks\n",
    "%matplotlib inline\n",
    "\n",
    "#reads the dataset file \n",
    "data=pd.read_csv(\"pima-indians-diabetes.csv\")\n",
    "\n",
    "#displaying the top 5 rows of the dataset\n",
    "display(data.head())"
   ]
  },
  {
   "cell_type": "code",
   "execution_count": 2,
   "metadata": {
    "collapsed": false
   },
   "outputs": [
    {
     "data": {
      "text/plain": [
       "768"
      ]
     },
     "execution_count": 2,
     "metadata": {},
     "output_type": "execute_result"
    }
   ],
   "source": [
    "#No of rows in the dataset\n",
    "len(data)"
   ]
  },
  {
   "cell_type": "code",
   "execution_count": 3,
   "metadata": {
    "collapsed": false,
    "scrolled": true
   },
   "outputs": [
    {
     "data": {
      "text/html": [
       "<div>\n",
       "<table border=\"1\" class=\"dataframe\">\n",
       "  <thead>\n",
       "    <tr style=\"text-align: right;\">\n",
       "      <th></th>\n",
       "      <th>preg_cnt</th>\n",
       "      <th>glu_conc</th>\n",
       "      <th>dia_bp</th>\n",
       "      <th>tris_skin</th>\n",
       "      <th>ser_insulin</th>\n",
       "      <th>bmi</th>\n",
       "      <th>dpf</th>\n",
       "      <th>age</th>\n",
       "      <th>diabetes</th>\n",
       "    </tr>\n",
       "  </thead>\n",
       "  <tbody>\n",
       "    <tr>\n",
       "      <th>count</th>\n",
       "      <td>768.000000</td>\n",
       "      <td>768.000000</td>\n",
       "      <td>768.000000</td>\n",
       "      <td>768.000000</td>\n",
       "      <td>768.000000</td>\n",
       "      <td>768.000000</td>\n",
       "      <td>768.000000</td>\n",
       "      <td>768.000000</td>\n",
       "      <td>768.000000</td>\n",
       "    </tr>\n",
       "    <tr>\n",
       "      <th>mean</th>\n",
       "      <td>3.845052</td>\n",
       "      <td>120.894531</td>\n",
       "      <td>69.105469</td>\n",
       "      <td>20.536458</td>\n",
       "      <td>79.799479</td>\n",
       "      <td>31.992578</td>\n",
       "      <td>0.471876</td>\n",
       "      <td>33.240885</td>\n",
       "      <td>0.348958</td>\n",
       "    </tr>\n",
       "    <tr>\n",
       "      <th>std</th>\n",
       "      <td>3.369578</td>\n",
       "      <td>31.972618</td>\n",
       "      <td>19.355807</td>\n",
       "      <td>15.952218</td>\n",
       "      <td>115.244002</td>\n",
       "      <td>7.884160</td>\n",
       "      <td>0.331329</td>\n",
       "      <td>11.760232</td>\n",
       "      <td>0.476951</td>\n",
       "    </tr>\n",
       "    <tr>\n",
       "      <th>min</th>\n",
       "      <td>0.000000</td>\n",
       "      <td>0.000000</td>\n",
       "      <td>0.000000</td>\n",
       "      <td>0.000000</td>\n",
       "      <td>0.000000</td>\n",
       "      <td>0.000000</td>\n",
       "      <td>0.078000</td>\n",
       "      <td>21.000000</td>\n",
       "      <td>0.000000</td>\n",
       "    </tr>\n",
       "    <tr>\n",
       "      <th>25%</th>\n",
       "      <td>1.000000</td>\n",
       "      <td>99.000000</td>\n",
       "      <td>62.000000</td>\n",
       "      <td>0.000000</td>\n",
       "      <td>0.000000</td>\n",
       "      <td>27.300000</td>\n",
       "      <td>0.243750</td>\n",
       "      <td>24.000000</td>\n",
       "      <td>0.000000</td>\n",
       "    </tr>\n",
       "    <tr>\n",
       "      <th>50%</th>\n",
       "      <td>3.000000</td>\n",
       "      <td>117.000000</td>\n",
       "      <td>72.000000</td>\n",
       "      <td>23.000000</td>\n",
       "      <td>30.500000</td>\n",
       "      <td>32.000000</td>\n",
       "      <td>0.372500</td>\n",
       "      <td>29.000000</td>\n",
       "      <td>0.000000</td>\n",
       "    </tr>\n",
       "    <tr>\n",
       "      <th>75%</th>\n",
       "      <td>6.000000</td>\n",
       "      <td>140.250000</td>\n",
       "      <td>80.000000</td>\n",
       "      <td>32.000000</td>\n",
       "      <td>127.250000</td>\n",
       "      <td>36.600000</td>\n",
       "      <td>0.626250</td>\n",
       "      <td>41.000000</td>\n",
       "      <td>1.000000</td>\n",
       "    </tr>\n",
       "    <tr>\n",
       "      <th>max</th>\n",
       "      <td>17.000000</td>\n",
       "      <td>199.000000</td>\n",
       "      <td>122.000000</td>\n",
       "      <td>99.000000</td>\n",
       "      <td>846.000000</td>\n",
       "      <td>67.100000</td>\n",
       "      <td>2.420000</td>\n",
       "      <td>81.000000</td>\n",
       "      <td>1.000000</td>\n",
       "    </tr>\n",
       "  </tbody>\n",
       "</table>\n",
       "</div>"
      ],
      "text/plain": [
       "         preg_cnt    glu_conc      dia_bp   tris_skin  ser_insulin  \\\n",
       "count  768.000000  768.000000  768.000000  768.000000   768.000000   \n",
       "mean     3.845052  120.894531   69.105469   20.536458    79.799479   \n",
       "std      3.369578   31.972618   19.355807   15.952218   115.244002   \n",
       "min      0.000000    0.000000    0.000000    0.000000     0.000000   \n",
       "25%      1.000000   99.000000   62.000000    0.000000     0.000000   \n",
       "50%      3.000000  117.000000   72.000000   23.000000    30.500000   \n",
       "75%      6.000000  140.250000   80.000000   32.000000   127.250000   \n",
       "max     17.000000  199.000000  122.000000   99.000000   846.000000   \n",
       "\n",
       "              bmi         dpf         age    diabetes  \n",
       "count  768.000000  768.000000  768.000000  768.000000  \n",
       "mean    31.992578    0.471876   33.240885    0.348958  \n",
       "std      7.884160    0.331329   11.760232    0.476951  \n",
       "min      0.000000    0.078000   21.000000    0.000000  \n",
       "25%     27.300000    0.243750   24.000000    0.000000  \n",
       "50%     32.000000    0.372500   29.000000    0.000000  \n",
       "75%     36.600000    0.626250   41.000000    1.000000  \n",
       "max     67.100000    2.420000   81.000000    1.000000  "
      ]
     },
     "execution_count": 3,
     "metadata": {},
     "output_type": "execute_result"
    }
   ],
   "source": [
    "#Important statistical parameters of the dataset for every feature\n",
    "data.describe()"
   ]
  },
  {
   "cell_type": "code",
   "execution_count": 4,
   "metadata": {
    "collapsed": false
   },
   "outputs": [
    {
     "name": "stdout",
     "output_type": "stream",
     "text": [
      "People with Diabetes :268\n",
      "People who do not have Diabetes:500\n"
     ]
    }
   ],
   "source": [
    "#binary classification of the class variable, distinguishing total no of positive and negative values respectively\n",
    "positive=0\n",
    "negative=0\n",
    "for i in data['diabetes']:\n",
    "    if i==0:\n",
    "        negative+=1\n",
    "    if i==1:\n",
    "        positive+=1\n",
    "\n",
    "#printing the results        \n",
    "print 'People with Diabetes :{}'.format(positive)\n",
    "print 'People who do not have Diabetes:{}'.format(negative)"
   ]
  },
  {
   "cell_type": "code",
   "execution_count": 5,
   "metadata": {
    "collapsed": false
   },
   "outputs": [
    {
     "name": "stderr",
     "output_type": "stream",
     "text": [
      "/home/tensor/anaconda2/lib/python2.7/site-packages/pandas/core/generic.py:3416: UserWarning: the \"axis\" argument is deprecated and will be removed inv0.13; this argument has no effect\n",
      "  warn('the \"axis\" argument is deprecated and will be removed in'\n"
     ]
    },
    {
     "data": {
      "text/html": [
       "<div>\n",
       "<table border=\"1\" class=\"dataframe\">\n",
       "  <thead>\n",
       "    <tr style=\"text-align: right;\">\n",
       "      <th></th>\n",
       "      <th>preg_cnt</th>\n",
       "      <th>glu_conc</th>\n",
       "      <th>dia_bp</th>\n",
       "      <th>tris_skin</th>\n",
       "      <th>ser_insulin</th>\n",
       "      <th>bmi</th>\n",
       "      <th>dpf</th>\n",
       "      <th>age</th>\n",
       "      <th>diabetes</th>\n",
       "    </tr>\n",
       "  </thead>\n",
       "  <tbody>\n",
       "    <tr>\n",
       "      <th>0</th>\n",
       "      <td>6</td>\n",
       "      <td>148</td>\n",
       "      <td>72</td>\n",
       "      <td>35</td>\n",
       "      <td>NaN</td>\n",
       "      <td>33.6</td>\n",
       "      <td>0.627</td>\n",
       "      <td>50</td>\n",
       "      <td>1</td>\n",
       "    </tr>\n",
       "    <tr>\n",
       "      <th>1</th>\n",
       "      <td>1</td>\n",
       "      <td>85</td>\n",
       "      <td>66</td>\n",
       "      <td>29</td>\n",
       "      <td>NaN</td>\n",
       "      <td>26.6</td>\n",
       "      <td>0.351</td>\n",
       "      <td>31</td>\n",
       "      <td>0</td>\n",
       "    </tr>\n",
       "    <tr>\n",
       "      <th>2</th>\n",
       "      <td>8</td>\n",
       "      <td>183</td>\n",
       "      <td>64</td>\n",
       "      <td>NaN</td>\n",
       "      <td>NaN</td>\n",
       "      <td>23.3</td>\n",
       "      <td>0.672</td>\n",
       "      <td>32</td>\n",
       "      <td>1</td>\n",
       "    </tr>\n",
       "    <tr>\n",
       "      <th>3</th>\n",
       "      <td>1</td>\n",
       "      <td>89</td>\n",
       "      <td>66</td>\n",
       "      <td>23</td>\n",
       "      <td>94</td>\n",
       "      <td>28.1</td>\n",
       "      <td>0.167</td>\n",
       "      <td>21</td>\n",
       "      <td>0</td>\n",
       "    </tr>\n",
       "    <tr>\n",
       "      <th>4</th>\n",
       "      <td>0</td>\n",
       "      <td>137</td>\n",
       "      <td>40</td>\n",
       "      <td>35</td>\n",
       "      <td>168</td>\n",
       "      <td>43.1</td>\n",
       "      <td>2.288</td>\n",
       "      <td>33</td>\n",
       "      <td>1</td>\n",
       "    </tr>\n",
       "  </tbody>\n",
       "</table>\n",
       "</div>"
      ],
      "text/plain": [
       "   preg_cnt glu_conc dia_bp tris_skin ser_insulin   bmi    dpf  age  diabetes\n",
       "0         6      148     72        35         NaN  33.6  0.627   50         1\n",
       "1         1       85     66        29         NaN  26.6  0.351   31         0\n",
       "2         8      183     64       NaN         NaN  23.3  0.672   32         1\n",
       "3         1       89     66        23          94  28.1  0.167   21         0\n",
       "4         0      137     40        35         168  43.1  2.288   33         1"
      ]
     },
     "metadata": {},
     "output_type": "display_data"
    },
    {
     "data": {
      "text/plain": [
       "768"
      ]
     },
     "execution_count": 5,
     "metadata": {},
     "output_type": "execute_result"
    }
   ],
   "source": [
    "#having zero values in the below features is an abnormality and hence are missing values, therefore converted to NaN\n",
    "\n",
    "#using data frames replace function to replace 0 by the NaN in the column axis \n",
    "data['ser_insulin']=data['ser_insulin'].replace(0,\"NaN\",axis=1)\n",
    "data['bmi']=data['bmi'].replace(0,\"NaN\",axis=1)\n",
    "data['glu_conc']=data['glu_conc'].replace(0,\"NaN\",axis=1)\n",
    "data['tris_skin']=data['tris_skin'].replace(0,\"NaN\",axis=1)\n",
    "data['dia_bp']=data['dia_bp'].replace(0,\"NaN\",axis=1)\n",
    "\n",
    "#after replacing zeroes wtih NaN in the aboe features, the top 5 rows of the dataset is displayed\n",
    "display(data.head())\n",
    "len(data)\n"
   ]
  },
  {
   "cell_type": "code",
   "execution_count": 6,
   "metadata": {
    "collapsed": false
   },
   "outputs": [
    {
     "name": "stdout",
     "output_type": "stream",
     "text": [
      "Missing values in glucose concentration:5\n",
      "Missing Values in DiastoliC Blood Pressure:35\n",
      "Missing values in Triceps skin thickness:227\n",
      "Missing values in 2-hour serum insulin:374\n",
      "Missing values in body mass index:11\n"
     ]
    }
   ],
   "source": [
    "#calculation no of NaN in every feature one by one and printing them out\n",
    "h=0\n",
    "for x in range(len(data['glu_conc'])):\n",
    "    if data['glu_conc'][x]==\"NaN\":\n",
    "        h+=1\n",
    "print \"Missing values in glucose concentration:{}\" .format(h)       \n",
    "i=0\n",
    "for x in range(len(data['dia_bp'])):\n",
    "    if data['dia_bp'][x]==\"NaN\":\n",
    "        i+=1\n",
    "print \"Missing Values in DiastoliC Blood Pressure:{}\".format(i) \n",
    "\n",
    "k=0\n",
    "for x in range(len(data['tris_skin'])):\n",
    "    if data['tris_skin'][x]==\"NaN\":\n",
    "        k+=1\n",
    "print \"Missing values in Triceps skin thickness:{}\".format(k)   \n",
    "\n",
    "l=0\n",
    "for x in range(len(data['ser_insulin'])):\n",
    "    if data['ser_insulin'][x]==\"NaN\":\n",
    "        l+=1\n",
    "print \"Missing values in 2-hour serum insulin:{}\".format(l)  \n",
    "\n",
    "m=0\n",
    "for x in range(len(data['bmi'])):\n",
    "    if data['bmi'][x]=='NaN':\n",
    "        m+=1\n",
    "print \"Missing values in body mass index:{}\".format(m)        "
   ]
  },
  {
   "cell_type": "code",
   "execution_count": 7,
   "metadata": {
    "collapsed": false
   },
   "outputs": [
    {
     "data": {
      "image/png": "[encoded data removed]",
      "text/plain": [
       "<matplotlib.figure.Figure at 0x7f1ec8573910>"
      ]
     },
     "metadata": {},
     "output_type": "display_data"
    }
   ],
   "source": [
    "#plotting the missing values in the features with missing values\n",
    "x1=[2,4,6,8,10]\n",
    "y1=[5,35,227,374,11]\n",
    "plt.bar(x1,y1,label='missing values')\n",
    "plt.xlabel(\"features\")\n",
    "plt.ylabel(\"no of missing values\")\n",
    "plt.show()"
   ]
  },
  {
   "cell_type": "code",
   "execution_count": 8,
   "metadata": {
    "collapsed": false
   },
   "outputs": [
    {
     "name": "stdout",
     "output_type": "stream",
     "text": [
      "   preg_cnt glu_conc dia_bp tris_skin ser_insulin   bmi    dpf  age\n",
      "0         6      148     72        35         NaN  33.6  0.627   50\n",
      "1         1       85     66        29         NaN  26.6  0.351   31\n",
      "2         8      183     64       NaN         NaN  23.3  0.672   32\n",
      "3         1       89     66        23          94  28.1  0.167   21\n",
      "4         0      137     40        35         168  43.1  2.288   33\n",
      "0    1\n",
      "1    0\n",
      "2    1\n",
      "3    0\n",
      "4    1\n",
      "Name: diabetes, dtype: int64\n"
     ]
    }
   ],
   "source": [
    "#creating separeate variables for features and labels by dropping the diabetes(label)and storing it in y\n",
    "\n",
    "X=data.drop('diabetes',axis=1)\n",
    "y=data['diabetes']\n",
    "\n",
    "#confirming by printing that the separation was successful\n",
    "print X.head()\n",
    "print y.head()"
   ]
  },
  {
   "cell_type": "code",
   "execution_count": 9,
   "metadata": {
    "collapsed": false,
    "scrolled": true
   },
   "outputs": [
    {
     "data": {
      "text/plain": [
       "<matplotlib.text.Text at 0x7f1ec5d78e50>"
      ]
     },
     "execution_count": 9,
     "metadata": {},
     "output_type": "execute_result"
    },
    {
     "data": {
      "image/png": "[encoded data removed]",
      "text/plain": [
       "<matplotlib.figure.Figure at 0x7f1ee27dc3d0>"
      ]
     },
     "metadata": {},
     "output_type": "display_data"
    }
   ],
   "source": [
    "#plotting the histogram of pregnancy count, checking which no occurs more often, the overall distribution of this feature\n",
    "plt.hist(data['preg_cnt'])\n",
    "\n",
    "#labelling the axis of x and y \n",
    "plt.xlabel(\"pregnancy count\")\n",
    "plt.ylabel(\"frequency\")\n",
    "\n"
   ]
  },
  {
   "cell_type": "code",
   "execution_count": 10,
   "metadata": {
    "collapsed": false
   },
   "outputs": [
    {
     "data": {
      "text/plain": [
       "<matplotlib.text.Text at 0x7f1ec5c75890>"
      ]
     },
     "execution_count": 10,
     "metadata": {},
     "output_type": "execute_result"
    },
    {
     "data": {
      "image/png": "[encoded data removed]",
      "text/plain": [
       "<matplotlib.figure.Figure at 0x7f1ec5cbe710>"
      ]
     },
     "metadata": {},
     "output_type": "display_data"
    }
   ],
   "source": [
    "#Plotting the histogram of the age feature\n",
    "plt.hist(data['age'])\n",
    "\n",
    "#labelling the axis of x and y\n",
    "plt.xlabel('age')\n",
    "plt.ylabel(\"frequency\")"
   ]
  },
  {
   "cell_type": "code",
   "execution_count": 11,
   "metadata": {
    "collapsed": false
   },
   "outputs": [
    {
     "data": {
      "text/plain": [
       "<matplotlib.text.Text at 0x7f1ec5be9850>"
      ]
     },
     "execution_count": 11,
     "metadata": {},
     "output_type": "execute_result"
    },
    {
     "data": {
      "image/png": "[encoded data removed]",
      "text/plain": [
       "<matplotlib.figure.Figure at 0x7f1ec5bc4110>"
      ]
     },
     "metadata": {},
     "output_type": "display_data"
    }
   ],
   "source": [
    "#Plotting the histogram of diabetes pedigree function\n",
    "plt.hist(data['dpf'])\n",
    "\n",
    "#labelling the axis of x and y\n",
    "plt.xlabel(\"diabetes pedigree function\")\n",
    "plt.ylabel(\"frequency\")"
   ]
  },
  {
   "cell_type": "code",
   "execution_count": 12,
   "metadata": {
    "collapsed": false
   },
   "outputs": [
    {
     "data": {
      "text/plain": [
       "<matplotlib.text.Text at 0x7f1ec5b10ad0>"
      ]
     },
     "execution_count": 12,
     "metadata": {},
     "output_type": "execute_result"
    },
    {
     "data": {
      "image/png": "[encoded data removed]",
      "text/plain": [
       "<matplotlib.figure.Figure at 0x7f1ec5aa89d0>"
      ]
     },
     "metadata": {},
     "output_type": "display_data"
    }
   ],
   "source": [
    "#scatterplot of bmi and triceps skin feature to check for correlation\n",
    "plt.scatter(data['bmi'],data['tris_skin'])\n",
    "plt.xlabel(\"bmi\")\n",
    "plt.ylabel(\"triceps skin\")\n"
   ]
  },
  {
   "cell_type": "code",
   "execution_count": 13,
   "metadata": {
    "collapsed": false
   },
   "outputs": [
    {
     "data": {
      "text/plain": [
       "<matplotlib.text.Text at 0x7f1ec5a44250>"
      ]
     },
     "execution_count": 13,
     "metadata": {},
     "output_type": "execute_result"
    },
    {
     "data": {
      "image/png": "[encoded data removed]",
      "text/plain": [
       "<matplotlib.figure.Figure at 0x7f1ec59ddb10>"
      ]
     },
     "metadata": {},
     "output_type": "display_data"
    }
   ],
   "source": [
    "#scatterplot of ser-insulin and dpf to check for correlation\n",
    "plt.scatter(data['ser_insulin'],data['dpf'])\n",
    "plt.xlabel(\"ser_insulin\")\n",
    "plt.ylabel(\"dpf\")"
   ]
  },
  {
   "cell_type": "code",
   "execution_count": 14,
   "metadata": {
    "collapsed": false
   },
   "outputs": [
    {
     "data": {
      "text/plain": [
       "<matplotlib.text.Text at 0x7f1ec597dc90>"
      ]
     },
     "execution_count": 14,
     "metadata": {},
     "output_type": "execute_result"
    },
    {
     "data": {
      "image/png": "[encoded data removed]",
      "text/plain": [
       "<matplotlib.figure.Figure at 0x7f1ec5928590>"
      ]
     },
     "metadata": {},
     "output_type": "display_data"
    }
   ],
   "source": [
    "#scatterplot of glucose concentration and ser_insulin\n",
    "plt.scatter(data['ser_insulin'],data['glu_conc'])\n",
    "plt.xlabel(\"ser_insulin\")\n",
    "plt.ylabel(\"glucose_concentraion\")"
   ]
  },
  {
   "cell_type": "code",
   "execution_count": 15,
   "metadata": {
    "collapsed": false
   },
   "outputs": [
    {
     "data": {
      "text/html": [
       "<div>\n",
       "<table border=\"1\" class=\"dataframe\">\n",
       "  <thead>\n",
       "    <tr style=\"text-align: right;\">\n",
       "      <th></th>\n",
       "      <th>preg_cnt</th>\n",
       "      <th>glu_conc</th>\n",
       "      <th>dia_bp</th>\n",
       "      <th>tris_skin</th>\n",
       "      <th>ser_insulin</th>\n",
       "      <th>bmi</th>\n",
       "      <th>dpf</th>\n",
       "      <th>age</th>\n",
       "      <th>diabetes</th>\n",
       "    </tr>\n",
       "  </thead>\n",
       "  <tbody>\n",
       "    <tr>\n",
       "      <th>0</th>\n",
       "      <td>6</td>\n",
       "      <td>148.0</td>\n",
       "      <td>72</td>\n",
       "      <td>35</td>\n",
       "      <td>30.5</td>\n",
       "      <td>33.6</td>\n",
       "      <td>0.627</td>\n",
       "      <td>50</td>\n",
       "      <td>1</td>\n",
       "    </tr>\n",
       "    <tr>\n",
       "      <th>1</th>\n",
       "      <td>1</td>\n",
       "      <td>85.0</td>\n",
       "      <td>66</td>\n",
       "      <td>29</td>\n",
       "      <td>30.5</td>\n",
       "      <td>26.6</td>\n",
       "      <td>0.351</td>\n",
       "      <td>31</td>\n",
       "      <td>0</td>\n",
       "    </tr>\n",
       "    <tr>\n",
       "      <th>2</th>\n",
       "      <td>8</td>\n",
       "      <td>183.0</td>\n",
       "      <td>64</td>\n",
       "      <td>23</td>\n",
       "      <td>30.5</td>\n",
       "      <td>23.3</td>\n",
       "      <td>0.672</td>\n",
       "      <td>32</td>\n",
       "      <td>1</td>\n",
       "    </tr>\n",
       "    <tr>\n",
       "      <th>3</th>\n",
       "      <td>1</td>\n",
       "      <td>89.0</td>\n",
       "      <td>66</td>\n",
       "      <td>23</td>\n",
       "      <td>94.0</td>\n",
       "      <td>28.1</td>\n",
       "      <td>0.167</td>\n",
       "      <td>21</td>\n",
       "      <td>0</td>\n",
       "    </tr>\n",
       "    <tr>\n",
       "      <th>4</th>\n",
       "      <td>0</td>\n",
       "      <td>137.0</td>\n",
       "      <td>40</td>\n",
       "      <td>35</td>\n",
       "      <td>168.0</td>\n",
       "      <td>43.1</td>\n",
       "      <td>2.288</td>\n",
       "      <td>33</td>\n",
       "      <td>1</td>\n",
       "    </tr>\n",
       "  </tbody>\n",
       "</table>\n",
       "</div>"
      ],
      "text/plain": [
       "   preg_cnt  glu_conc  dia_bp  tris_skin  ser_insulin   bmi    dpf  age  \\\n",
       "0         6     148.0      72         35         30.5  33.6  0.627   50   \n",
       "1         1      85.0      66         29         30.5  26.6  0.351   31   \n",
       "2         8     183.0      64         23         30.5  23.3  0.672   32   \n",
       "3         1      89.0      66         23         94.0  28.1  0.167   21   \n",
       "4         0     137.0      40         35        168.0  43.1  2.288   33   \n",
       "\n",
       "   diabetes  \n",
       "0         1  \n",
       "1         0  \n",
       "2         1  \n",
       "3         0  \n",
       "4         1  "
      ]
     },
     "execution_count": 15,
     "metadata": {},
     "output_type": "execute_result"
    }
   ],
   "source": [
    "#replacing the NaN values in the features with their respective medians or means\n",
    "data['ser_insulin']=data['ser_insulin'].replace(\"NaN\",30.5,axis=1)#replaced by median as too many missing values \n",
    "data['bmi']=data['bmi'].replace(\"NaN\",31.992578,axis=1)#replaced by median or mean, both are almost equal\n",
    "data['glu_conc']=data['glu_conc'].replace(\"NaN\",120.8945,axis=1)#replaced by mean\n",
    "data['tris_skin']=data['tris_skin'].replace(\"NaN\",23,axis=1)#replaced by median as too many missing values\n",
    "data['dia_bp']=data['dia_bp'].replace(\"NaN\",72,axis=1)#replaced by median, considerale missing values\n",
    "\n",
    "#confirming the changes by visualizing the first 5 rows\n",
    "data.head()"
   ]
  },
  {
   "cell_type": "code",
   "execution_count": 16,
   "metadata": {
    "collapsed": false
   },
   "outputs": [
    {
     "data": {
      "text/plain": [
       "<matplotlib.text.Text at 0x7f1ec5a06610>"
      ]
     },
     "execution_count": 16,
     "metadata": {},
     "output_type": "execute_result"
    },
    {
     "data": {
      "image/png": "[encoded data removed]",
      "text/plain": [
       "<matplotlib.figure.Figure at 0x7f1ec585b950>"
      ]
     },
     "metadata": {},
     "output_type": "display_data"
    }
   ],
   "source": [
    "#after replacing NaN values, histogram of glucose concentration is plotted\n",
    "plt.hist(data['glu_conc'])\n",
    "\n",
    "#labelling the axis of x and y\n",
    "plt.xlabel(\"glucose conc\")\n",
    "plt.ylabel(\"frequency\")"
   ]
  },
  {
   "cell_type": "code",
   "execution_count": 17,
   "metadata": {
    "collapsed": false
   },
   "outputs": [
    {
     "data": {
      "text/plain": [
       "<matplotlib.text.Text at 0x7f1ec5778d10>"
      ]
     },
     "execution_count": 17,
     "metadata": {},
     "output_type": "execute_result"
    },
    {
     "data": {
      "image/png": "[encoded data removed]",
      "text/plain": [
       "<matplotlib.figure.Figure at 0x7f1ec5b638d0>"
      ]
     },
     "metadata": {},
     "output_type": "display_data"
    }
   ],
   "source": [
    "#after replacing by median, scatterplot of diastolic bp is plotted\n",
    "plt.hist(data['dia_bp'])\n",
    "\n",
    "#labelling the axis of x and y\n",
    "plt.xlabel(\"diastolic BP\")\n",
    "plt.ylabel(\"frequency\")"
   ]
  },
  {
   "cell_type": "code",
   "execution_count": 18,
   "metadata": {
    "collapsed": false
   },
   "outputs": [
    {
     "data": {
      "text/plain": [
       "<matplotlib.text.Text at 0x7f1ec570f650>"
      ]
     },
     "execution_count": 18,
     "metadata": {},
     "output_type": "execute_result"
    },
    {
     "data": {
      "image/png": "[encoded data removed]",
      "text/plain": [
       "<matplotlib.figure.Figure at 0x7f1ec5792f90>"
      ]
     },
     "metadata": {},
     "output_type": "display_data"
    }
   ],
   "source": [
    "plt.hist(data['bmi'])\n",
    "plt.xlabel(\"body mass index\")\n",
    "plt.ylabel(\"frequency\")"
   ]
  },
  {
   "cell_type": "code",
   "execution_count": 19,
   "metadata": {
    "collapsed": false
   },
   "outputs": [
    {
     "data": {
      "text/plain": [
       "<matplotlib.text.Text at 0x7f1ec56c5850>"
      ]
     },
     "execution_count": 19,
     "metadata": {},
     "output_type": "execute_result"
    },
    {
     "data": {
      "image/png": "[encoded data removed]",
      "text/plain": [
       "<matplotlib.figure.Figure at 0x7f1ec880b210>"
      ]
     },
     "metadata": {},
     "output_type": "display_data"
    }
   ],
   "source": [
    "#plotting a scatterplot of ser_insulin after replacing the missing values with its median\n",
    "plt.hist(data['ser_insulin'])\n",
    "plt.xlabel(\"serum insulin\")\n",
    "plt.ylabel(\"frequency\")"
   ]
  },
  {
   "cell_type": "code",
   "execution_count": 20,
   "metadata": {
    "collapsed": false
   },
   "outputs": [
    {
     "data": {
      "text/plain": [
       "<matplotlib.text.Text at 0x7f1ec5670250>"
      ]
     },
     "execution_count": 20,
     "metadata": {},
     "output_type": "execute_result"
    },
    {
     "data": {
      "image/png": "[encoded data removed]",
      "text/plain": [
       "<matplotlib.figure.Figure at 0x7f1ec561e2d0>"
      ]
     },
     "metadata": {},
     "output_type": "display_data"
    }
   ],
   "source": [
    "#plotting scatterplot of triceps skin after replacing missing values with its median\n",
    "plt.hist(data[\"tris_skin\"])\n",
    "plt.xlabel(\"triceps skin thickness\")\n",
    "plt.ylabel(\"frequency\")"
   ]
  },
  {
   "cell_type": "code",
   "execution_count": 21,
   "metadata": {
    "collapsed": false
   },
   "outputs": [
    {
     "data": {
      "text/html": [
       "<div>\n",
       "<table border=\"1\" class=\"dataframe\">\n",
       "  <thead>\n",
       "    <tr style=\"text-align: right;\">\n",
       "      <th></th>\n",
       "      <th>preg_cnt</th>\n",
       "      <th>glu_conc</th>\n",
       "      <th>dia_bp</th>\n",
       "      <th>tris_skin</th>\n",
       "      <th>ser_insulin</th>\n",
       "      <th>bmi</th>\n",
       "      <th>dpf</th>\n",
       "      <th>age</th>\n",
       "    </tr>\n",
       "  </thead>\n",
       "  <tbody>\n",
       "    <tr>\n",
       "      <th>0</th>\n",
       "      <td>0.352941</td>\n",
       "      <td>0.670968</td>\n",
       "      <td>0.489796</td>\n",
       "      <td>0.304348</td>\n",
       "      <td>0.019832</td>\n",
       "      <td>0.314928</td>\n",
       "      <td>0.234415</td>\n",
       "      <td>0.483333</td>\n",
       "    </tr>\n",
       "    <tr>\n",
       "      <th>1</th>\n",
       "      <td>0.058824</td>\n",
       "      <td>0.264516</td>\n",
       "      <td>0.428571</td>\n",
       "      <td>0.239130</td>\n",
       "      <td>0.019832</td>\n",
       "      <td>0.171779</td>\n",
       "      <td>0.116567</td>\n",
       "      <td>0.166667</td>\n",
       "    </tr>\n",
       "    <tr>\n",
       "      <th>2</th>\n",
       "      <td>0.470588</td>\n",
       "      <td>0.896774</td>\n",
       "      <td>0.408163</td>\n",
       "      <td>0.173913</td>\n",
       "      <td>0.019832</td>\n",
       "      <td>0.104294</td>\n",
       "      <td>0.253629</td>\n",
       "      <td>0.183333</td>\n",
       "    </tr>\n",
       "    <tr>\n",
       "      <th>3</th>\n",
       "      <td>0.058824</td>\n",
       "      <td>0.290323</td>\n",
       "      <td>0.428571</td>\n",
       "      <td>0.173913</td>\n",
       "      <td>0.096154</td>\n",
       "      <td>0.202454</td>\n",
       "      <td>0.038002</td>\n",
       "      <td>0.000000</td>\n",
       "    </tr>\n",
       "    <tr>\n",
       "      <th>4</th>\n",
       "      <td>0.000000</td>\n",
       "      <td>0.600000</td>\n",
       "      <td>0.163265</td>\n",
       "      <td>0.304348</td>\n",
       "      <td>0.185096</td>\n",
       "      <td>0.509202</td>\n",
       "      <td>0.943638</td>\n",
       "      <td>0.200000</td>\n",
       "    </tr>\n",
       "  </tbody>\n",
       "</table>\n",
       "</div>"
      ],
      "text/plain": [
       "   preg_cnt  glu_conc    dia_bp  tris_skin  ser_insulin       bmi       dpf  \\\n",
       "0  0.352941  0.670968  0.489796   0.304348     0.019832  0.314928  0.234415   \n",
       "1  0.058824  0.264516  0.428571   0.239130     0.019832  0.171779  0.116567   \n",
       "2  0.470588  0.896774  0.408163   0.173913     0.019832  0.104294  0.253629   \n",
       "3  0.058824  0.290323  0.428571   0.173913     0.096154  0.202454  0.038002   \n",
       "4  0.000000  0.600000  0.163265   0.304348     0.185096  0.509202  0.943638   \n",
       "\n",
       "        age  \n",
       "0  0.483333  \n",
       "1  0.166667  \n",
       "2  0.183333  \n",
       "3  0.000000  \n",
       "4  0.200000  "
      ]
     },
     "execution_count": 21,
     "metadata": {},
     "output_type": "execute_result"
    }
   ],
   "source": [
    "#Importing preprocessing library to scale the dataset features\n",
    "from sklearn.preprocessing import MinMaxScaler\n",
    "\n",
    "#creating the scaler object\n",
    "scaler=MinMaxScaler()\n",
    "\n",
    "#making a list of all the features to be scaled\n",
    "features=['preg_cnt','dia_bp','bmi','dpf','tris_skin','glu_conc','ser_insulin','age']\n",
    "\n",
    "#executing the scaler function and storing it in the features dataframe X\n",
    "X[features]=scaler.fit_transform(data[features])\n",
    "\n",
    "#confirming the changes by displaying the result\n",
    "X.head()\n",
    "\n"
   ]
  },
  {
   "cell_type": "code",
   "execution_count": 22,
   "metadata": {
    "collapsed": false
   },
   "outputs": [
    {
     "name": "stdout",
     "output_type": "stream",
     "text": [
      "             preg_cnt  glu_conc    dia_bp  tris_skin  ser_insulin       bmi  \\\n",
      "preg_cnt     1.000000  0.127964  0.208615   0.032568    -0.055697  0.021546   \n",
      "glu_conc     0.127964  1.000000  0.218623   0.172361     0.357081  0.231478   \n",
      "dia_bp       0.208615  0.218623  1.000000   0.147809    -0.028721  0.281129   \n",
      "tris_skin    0.032568  0.172361  0.147809   1.000000     0.238188  0.546958   \n",
      "ser_insulin -0.055697  0.357081 -0.028721   0.238188     1.000000  0.189031   \n",
      "bmi          0.021546  0.231478  0.281129   0.546958     0.189031  1.000000   \n",
      "dpf         -0.033523  0.137106 -0.002378   0.142977     0.178029  0.153508   \n",
      "age          0.544341  0.266600  0.324915   0.054514    -0.015413  0.025748   \n",
      "\n",
      "                  dpf       age  \n",
      "preg_cnt    -0.033523  0.544341  \n",
      "glu_conc     0.137106  0.266600  \n",
      "dia_bp      -0.002378  0.324915  \n",
      "tris_skin    0.142977  0.054514  \n",
      "ser_insulin  0.178029 -0.015413  \n",
      "bmi          0.153508  0.025748  \n",
      "dpf          1.000000  0.033561  \n",
      "age          0.033561  1.000000  \n"
     ]
    }
   ],
   "source": [
    "#looking at correlations between diff features and displaying it\n",
    "print X.corr()"
   ]
  },
  {
   "cell_type": "code",
   "execution_count": 23,
   "metadata": {
    "collapsed": false
   },
   "outputs": [
    {
     "name": "stderr",
     "output_type": "stream",
     "text": [
      "/home/tensor/anaconda2/lib/python2.7/site-packages/sklearn/cross_validation.py:44: DeprecationWarning: This module was deprecated in version 0.18 in favor of the model_selection module into which all the refactored classes and functions are moved. Also note that the interface of the new CV iterators are different from that of this module. This module will be removed in 0.20.\n",
      "  \"This module will be removed in 0.20.\", DeprecationWarning)\n"
     ]
    },
    {
     "name": "stdout",
     "output_type": "stream",
     "text": [
      "(537, 8)\n",
      "(231, 8)\n",
      "Training time:1.96691513062\n",
      "Predicting time:0.648524999619\n",
      "[[145  12]\n",
      " [ 38  36]]\n",
      "F1_score:0.590163934426\n",
      "Accuracy score:0.78354978355\n"
     ]
    }
   ],
   "source": [
    "#Importing necessary metrics and classifiers to perform and evaluate the machine learning results\n",
    "from sklearn.metrics import f1_score,confusion_matrix\n",
    "\n",
    "#Import cross validation to split the data into train and test sets \n",
    "from sklearn.cross_validation import train_test_split\n",
    "\n",
    "#Importing ensemble classifiers\n",
    "from sklearn.ensemble import RandomForestClassifier,GradientBoostingClassifier,AdaBoostClassifier,ExtraTreesClassifier\n",
    "#importing support vector machine\n",
    "from sklearn.svm import SVC\n",
    "#importing logistic regression\n",
    "from sklearn.linear_model import LogisticRegression\n",
    "#importing decision trees\n",
    "from sklearn.tree import DecisionTreeClassifier\n",
    "from sklearn.naive_bayes import GaussianNB\n",
    "\n",
    "#splitting the data into train and test sets\n",
    "X_train,X_test,y_train,y_test=train_test_split(X,y,test_size=0.3,random_state=0)\n",
    "\n",
    "#confirming the shapes of train and test sets\n",
    "print X_train.shape\n",
    "print X_test.shape\n",
    "\n",
    "#making the classifier object and tuning its parameters\n",
    "clf=ExtraTreesClassifier(n_estimators=100,min_samples_split=6,max_depth=8,random_state=6)\n",
    "#Fitting the classifier on training set\n",
    "start_clf=time()\n",
    "clf.fit(X_train,y_train)\n",
    "end_clf=time()\n",
    "#Predicting the test set using the classifier\n",
    "start_clf_pred=time()\n",
    "y_pred=clf.predict(X_test)\n",
    "end_clf_pred=time()\n",
    "\n",
    "print \"Training time:{}\".format(end_clf-start_clf)#Displaying the training time\n",
    "print \"Predicting time:{}\".format(end_clf_pred-start_clf_pred)#Displaying the predicting time\n",
    "print confusion_matrix(y_test,y_pred)#displaying the confusion matrix of the results \n",
    "print \"F1_score:{}\".format(f1_score(y_test,y_pred))#displaying the f1_score of the results\n",
    "print\"Accuracy score:{}\".format(clf.score(X_test,y_test))#displaying the accuracy score of the results\n",
    "\n",
    "\n"
   ]
  },
  {
   "cell_type": "code",
   "execution_count": 24,
   "metadata": {
    "collapsed": false
   },
   "outputs": [
    {
     "name": "stdout",
     "output_type": "stream",
     "text": [
      "Training time:0.632729053497\n",
      "Predicting time:0.00326299667358\n",
      "[[133  24]\n",
      " [ 23  51]]\n",
      "Important features:[ 0.05907009  0.12545744  0.05737576  0.05453035  0.05123261  0.15274376\n",
      "  0.16322791  0.09636208]\n",
      "Accuracy score:0.796536796537\n",
      "f1_score:0.684563758389\n"
     ]
    }
   ],
   "source": [
    "\n",
    "#creating another machine learning classifier object\n",
    "clf1=GradientBoostingClassifier(learning_rate=0.5,max_depth=6,min_samples_split=9,random_state=0)\n",
    "\n",
    "#Fitting the classifier object on training set\n",
    "start_clf1=time()\n",
    "clf1.fit(X_train,y_train)\n",
    "end_clf1=time()\n",
    "\n",
    "#performing predictions on test set\n",
    "start_clf1_pred=time()\n",
    "y_pred1=clf1.predict(X_test)\n",
    "end_clf1_pred=time()\n",
    "\n",
    "print \"Training time:{}\".format(end_clf1-start_clf1)#Displaying the training time\n",
    "print \"Predicting time:{}\".format(end_clf1_pred-start_clf1_pred)#Displaying the predicting time\n",
    "print(confusion_matrix(y_test,y_pred1))#displaying the confusion matrix of the results\n",
    "importances=(clf1.feature_importances_)\n",
    "print \"Important features:{}\".format(importances) #displaying the important features according to the classfieir and their scores\n",
    "\n",
    "print \"Accuracy score:{}\".format(clf1.score(X_test,y_test))#displaying the accuracy score of the results\n",
    "\n",
    "\n",
    "print \"f1_score:{}\".format(f1_score(y_test,y_pred1))#displaying the f1_score of the results"
   ]
  },
  {
   "cell_type": "code",
   "execution_count": 25,
   "metadata": {
    "collapsed": false
   },
   "outputs": [
    {
     "name": "stdout",
     "output_type": "stream",
     "text": [
      "training time:0.00981783866882\n",
      "predicting time:0.00862884521484\n",
      "Accuracy score:0.774891774892\n",
      "[[144  13]\n",
      " [ 39  35]]\n",
      "f1_score:0.573770491803\n"
     ]
    }
   ],
   "source": [
    "#same procedure as above classifier for Logistic regression\n",
    "clf2=LogisticRegression(random_state=6)\n",
    "start_clf2=time()\n",
    "clf2.fit(X_train,y_train)\n",
    "end_clf2=time()\n",
    "\n",
    "start_clf2_pred=time()\n",
    "y_pred2=clf2.predict(X_test)\n",
    "end_clf2_pred=time()\n",
    "\n",
    "\n",
    "\n",
    "print \"training time:{}\".format(end_clf2-start_clf2)\n",
    "print \"predicting time:{}\".format(end_clf2_pred-start_clf2_pred)\n",
    "\n",
    "print \"Accuracy score:{}\".format(clf2.score(X_test,y_test))\n",
    "print confusion_matrix(y_test,y_pred2)\n",
    "print \"f1_score:{}\".format(f1_score(y_test,y_pred2))\n"
   ]
  },
  {
   "cell_type": "code",
   "execution_count": 26,
   "metadata": {
    "collapsed": false
   },
   "outputs": [
    {
     "name": "stdout",
     "output_type": "stream",
     "text": [
      "Training time:0.00628685951233\n",
      "Predicting time:0.000731945037842\n",
      "Acccuaracy score:0.774891774892\n",
      "[[144  13]\n",
      " [ 39  35]]\n",
      "F1_score:0.573770491803\n",
      "Important features:[ 0.04950104  0.28094256  0.10384884  0.03955937  0.04067314  0.1865405\n",
      "  0.14575618  0.15317838]\n"
     ]
    }
   ],
   "source": [
    "#repeating the same procedures as above\n",
    "clf3=DecisionTreeClassifier(random_state=0)\n",
    "\n",
    "start_clf3=time()\n",
    "clf3.fit(X_train,y_train)\n",
    "end_clf3=time()\n",
    "\n",
    "start_clf3_pred=time()\n",
    "y_pred3=clf2.predict(X_test)\n",
    "end_clf3_pred=time()\n",
    "\n",
    "print \"Training time:{}\".format(end_clf3-start_clf3)\n",
    "print \"Predicting time:{}\".format(end_clf3_pred-start_clf3_pred)\n",
    "print \"Acccuaracy score:{}\".format(clf2.score(X_test,y_test))\n",
    "\n",
    "print confusion_matrix(y_test,y_pred3)\n",
    "\n",
    "print \"F1_score:{}\".format(f1_score(y_test,y_pred3))\n",
    "print \"Important features:{}\".format(clf3.feature_importances_)"
   ]
  },
  {
   "cell_type": "code",
   "execution_count": 27,
   "metadata": {
    "collapsed": false
   },
   "outputs": [
    {
     "name": "stdout",
     "output_type": "stream",
     "text": [
      "Fitting Base Models...\n",
      "Fitting model 01: ExtraTreesClassifier(bootstrap=False, class_weight=None, criterion='gini',\n",
      "           max_depth=8, max_features='auto', max_leaf_nodes=None,\n",
      "           min_impurity_split=1e-07, min_samples_leaf=1,\n",
      "           min_samples_split=6, min_weight_fraction_leaf=0.0,\n",
      "           n_estimators=100, n_jobs=1, oob_score=False, random_state=6,\n",
      "           verbose=0, warm_start=False)\n",
      "Fold 1\n",
      "Fold 2\n",
      "Fold 3\n",
      "Fold 4\n",
      "Fold 5\n",
      "Fold 6\n",
      "Fold 7\n",
      "Fold 8\n",
      "Fold 9\n",
      "Fitting model 02: GradientBoostingClassifier(criterion='friedman_mse', init=None,\n",
      "              learning_rate=0.5, loss='deviance', max_depth=6,\n",
      "              max_features=None, max_leaf_nodes=None,\n",
      "              min_impurity_split=1e-07, min_samples_leaf=1,\n",
      "              min_samples_split=9, min_weight_fraction_leaf=0.0,\n",
      "              n_estimators=100, presort='auto', random_state=0,\n",
      "              subsample=1.0, verbose=0, warm_start=False)\n",
      "Fold 1\n",
      "Fold 2\n",
      "Fold 3\n",
      "Fold 4\n",
      "Fold 5\n",
      "Fold 6\n",
      "Fold 7\n",
      "Fold 8\n",
      "Fold 9\n",
      "Fitting model 03: LogisticRegression(C=1.0, class_weight=None, dual=False, fit_intercept=True,\n",
      "          intercept_scaling=1, max_iter=100, multi_class='ovr', n_jobs=1,\n",
      "          penalty='l2', random_state=6, solver='liblinear', tol=0.0001,\n",
      "          verbose=0, warm_start=False)\n",
      "Fold 1\n",
      "Fold 2\n",
      "Fold 3\n",
      "Fold 4\n",
      "Fold 5\n",
      "Fold 6\n",
      "Fold 7\n",
      "Fold 8\n",
      "Fold 9\n",
      "Fitting model 04: DecisionTreeClassifier(class_weight=None, criterion='gini', max_depth=None,\n",
      "            max_features=None, max_leaf_nodes=None,\n",
      "            min_impurity_split=1e-07, min_samples_leaf=1,\n",
      "            min_samples_split=2, min_weight_fraction_leaf=0.0,\n",
      "            presort=False, random_state=0, splitter='best')\n",
      "Fold 1\n",
      "Fold 2\n",
      "Fold 3\n",
      "Fold 4\n",
      "Fold 5\n",
      "Fold 6\n",
      "Fold 7\n",
      "Fold 8\n",
      "Fold 9\n",
      "Fitting Blending Model:\n",
      "ExtraTreesClassifier(bootstrap=False, class_weight=None, criterion='gini',\n",
      "           max_depth=8, max_features='auto', max_leaf_nodes=None,\n",
      "           min_impurity_split=1e-07, min_samples_leaf=1,\n",
      "           min_samples_split=6, min_weight_fraction_leaf=0.0,\n",
      "           n_estimators=100, n_jobs=1, oob_score=False, random_state=6,\n",
      "           verbose=0, warm_start=False)\n",
      "Fold 0\n",
      "Fold 1\n",
      "Fold 2\n",
      "Fold 3\n",
      "Fold 4\n",
      "Fold 5\n",
      "Fold 6\n",
      "Fold 7\n",
      "Fold 8\n",
      "             precision    recall  f1-score   support\n",
      "\n",
      "          0       0.86      0.85      0.86       157\n",
      "          1       0.70      0.72      0.71        74\n",
      "\n",
      "avg / total       0.81      0.81      0.81       231\n",
      "\n",
      "Confusion Matrix:\n",
      "[[134  23]\n",
      " [ 21  53]]\n",
      "Training time:35.5181899071\n",
      "Prediction Time:4.20899891853\n"
     ]
    }
   ],
   "source": [
    "#importing stacking library to form a combination classifier,Classifiers showing the best accuracies are chosen\n",
    "from stacked_generalizer import StackedGeneralizer\n",
    "\n",
    "#no of cross validation folds in the data\n",
    "n_folds=9\n",
    "VERBOSE=True\n",
    "\n",
    "\n",
    "\n",
    "# hold out 30 percent of data for testing accuracy\n",
    "train_prct = 0.7\n",
    "n_train = int(round(X.shape[0]*train_prct))\n",
    "\n",
    "# define base models\n",
    "base_models = [clf,clf1,clf2,clf3]\n",
    "# define blending model\n",
    "blending_model = clf\n",
    "\n",
    "# initialize multi-stage model\n",
    "sg = StackedGeneralizer(base_models, blending_model, \n",
    "                        n_folds=n_folds, verbose=VERBOSE)\n",
    "\n",
    "# fit model\n",
    "start_time=time()\n",
    "sg.fit(X_train.values,y_train.values)\n",
    "end_time=time()\n",
    "# test accuracy\n",
    "start_pred=time()\n",
    "pred = sg.predict(X_test)\n",
    "end_pred=time()\n",
    "pred_classes = [np.argmax(p) for p in pred]\n",
    "_ = sg.evaluate(y_test, pred_classes)\n",
    "print \"Training time:{}\".format(end_time-start_time)\n",
    "print\"Prediction Time:{}\".format(end_pred-start_pred)\n"
   ]
  },
  {
   "cell_type": "code",
   "execution_count": 28,
   "metadata": {
    "collapsed": false
   },
   "outputs": [
    {
     "data": {
      "image/png": "[encoded data removed]",
      "text/plain": [
       "<matplotlib.figure.Figure at 0x7f1ebe7dbf90>"
      ]
     },
     "metadata": {},
     "output_type": "display_data"
    }
   ],
   "source": [
    "#plotting and comparing the f1 scores of the classifiers and the stacking model\n",
    "lab=[2,4,6,8,10]\n",
    "f1scores=[0.590163934426,0.684563758389,0.573770491803,0.573770491803,0.81]\n",
    "plt.bar(lab,f1scores,color='red')\n",
    "plt.xlabel(\"classifiers\")\n",
    "plt.ylabel(\"f1_scores\")\n",
    "plt.show()"
   ]
  },
  {
   "cell_type": "code",
   "execution_count": null,
   "metadata": {
    "collapsed": true
   },
   "outputs": [],
   "source": []
  }
 ],
 "metadata": {
  "kernelspec": {
   "display_name": "Python 2",
   "language": "python",
   "name": "python2"
  },
  "language_info": {
   "codemirror_mode": {
    "name": "ipython",
    "version": 2
   },
   "file_extension": ".py",
   "mimetype": "text/x-python",
   "name": "python",
   "nbconvert_exporter": "python",
   "pygments_lexer": "ipython2",
   "version": "2.7.13"
  }
 },
 "nbformat": 4,
 "nbformat_minor": 2
}
